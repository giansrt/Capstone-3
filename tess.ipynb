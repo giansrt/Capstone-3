{
 "cells": [
  {
   "cell_type": "markdown",
   "metadata": {},
   "source": [
    "# Binning  latitude dan longitude Kolom"
   ]
  },
  {
   "cell_type": "code",
   "execution_count": null,
   "metadata": {},
   "outputs": [],
   "source": [
    "num_bins = 10\n",
    "# Membuat bin untuk longitude\n",
    "df_california['longitude_bin'] = pd.cut(df_california['longitude'], bins=num_bins, labels=False)\n",
    "\n",
    "# Membuat bin untuk latitude\n",
    "df_california['latitude_bin'] = pd.cut(df_california['latitude'], bins=num_bins, labels=False)\n",
    "\n",
    "# Menggabungkan kategori longitude dan latitude menjadi satu kolom\n",
    "df_california['district_category'] = df_california['latitude_bin'].astype(str) + '_' + df_california['longitude_bin'].astype(str)"
   ]
  },
  {
   "cell_type": "code",
   "execution_count": null,
   "metadata": {},
   "outputs": [],
   "source": [
    "import category_encoders as ce\n",
    "encoder = ce.BinaryEncoder(cols=[ 'district_category','ocean_proximity'])\n",
    "df_encoded = encoder.fit_transform(df_california)"
   ]
  },
  {
   "cell_type": "code",
   "execution_count": null,
   "metadata": {},
   "outputs": [],
   "source": [
    "df_encoded.drop(columns=['longitude','latitude','longitude_bin','latitude_bin'], axis=1, inplace=True)"
   ]
  },
  {
   "cell_type": "code",
   "execution_count": null,
   "metadata": {},
   "outputs": [],
   "source": [
    "df_encoded.head()"
   ]
  },
  {
   "cell_type": "code",
   "execution_count": null,
   "metadata": {},
   "outputs": [],
   "source": []
  }
 ],
 "metadata": {
  "language_info": {
   "name": "python"
  }
 },
 "nbformat": 4,
 "nbformat_minor": 2
}
